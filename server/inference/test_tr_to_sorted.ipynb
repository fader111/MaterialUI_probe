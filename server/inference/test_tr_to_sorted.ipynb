{
 "cells": [
  {
   "cell_type": "code",
   "execution_count": 3,
   "id": "04e59f8c",
   "metadata": {},
   "outputs": [],
   "source": [
    "from autosetup_ml.utils import *"
   ]
  },
  {
   "cell_type": "code",
   "execution_count": 6,
   "id": "6911365f",
   "metadata": {},
   "outputs": [],
   "source": [
    "def transforms_to_sorted(teeth_transforms: List[Dict[str, Any]]) -> List[Dict[str, Any]]:\n",
    "    \"\"\"\n",
    "    Return a list of transforms sorted by tooth ID (ascending).\n",
    "    The output is the same structure (list of dicts) as the input.\n",
    "    \"\"\"\n",
    "    # Собираем пары (tooth_id, transform)\n",
    "    tooth_ids = dw_teeth_nums14 + up_teeth_nums14\n",
    "    pairs = list(zip(tooth_ids, teeth_transforms))\n",
    "    # Сортируем по tooth_id (на всякий случай, если порядок нарушен)\n",
    "    pairs_sorted = sorted(pairs, key=lambda x: x[0])\n",
    "    # Возвращаем только список transform в отсортированном порядке\n",
    "    return [transform for _, transform in pairs_sorted]\n",
    "\n",
    "def test_transforms_to_sorted():\n",
    "    # Example tooth IDs (should match your dw_teeth_nums14 + up_teeth_nums14)\n",
    "    tooth_ids = dw_teeth_nums14 + up_teeth_nums14\n",
    "    # Create transforms with a marker for each tooth_id\n",
    "    transforms = [{\"tooth_id\": tid, \"val\": f\"val_{tid}\"} for tid in tooth_ids]\n",
    "    # Shuffle the transforms to simulate unordered input\n",
    "    import random\n",
    "    random.shuffle(transforms)\n",
    "    # Run the sorting function\n",
    "    sorted_transforms = transforms_to_sorted(transforms)\n",
    "    # Check that the order matches the original tooth_ids\n",
    "    for idx, t in enumerate(sorted_transforms):\n",
    "        assert t[\"tooth_id\"] == tooth_ids[idx], f\"Mismatch at idx {idx}: got {t['tooth_id']}, expected {tooth_ids[idx]}\"\n",
    "    print(\"test_transforms_to_sorted passed.\")\n"
   ]
  },
  {
   "cell_type": "code",
   "execution_count": 7,
   "id": "ac7df7d3",
   "metadata": {},
   "outputs": [
    {
     "data": {
      "text/plain": [
       "[11,\n",
       " 12,\n",
       " 13,\n",
       " 14,\n",
       " 15,\n",
       " 16,\n",
       " 17,\n",
       " 21,\n",
       " 22,\n",
       " 23,\n",
       " 24,\n",
       " 25,\n",
       " 26,\n",
       " 27,\n",
       " 31,\n",
       " 32,\n",
       " 33,\n",
       " 34,\n",
       " 35,\n",
       " 36,\n",
       " 37,\n",
       " 41,\n",
       " 42,\n",
       " 43,\n",
       " 44,\n",
       " 45,\n",
       " 46,\n",
       " 47]"
      ]
     },
     "execution_count": 7,
     "metadata": {},
     "output_type": "execute_result"
    }
   ],
   "source": [
    "# make here the dict where keys are from dw_teeth_nums14 + up_teeth_nums14 and the values are the copy of keys\n",
    "dist_test = {tid: tid for tid in dw_teeth_nums14 + up_teeth_nums14}\n",
    "# Run the test\n",
    "transforms_to_sorted(dist_test.values())"
   ]
  }
 ],
 "metadata": {
  "kernelspec": {
   "display_name": "Python 3",
   "language": "python",
   "name": "python3"
  },
  "language_info": {
   "codemirror_mode": {
    "name": "ipython",
    "version": 3
   },
   "file_extension": ".py",
   "mimetype": "text/x-python",
   "name": "python",
   "nbconvert_exporter": "python",
   "pygments_lexer": "ipython3",
   "version": "3.12.2"
  }
 },
 "nbformat": 4,
 "nbformat_minor": 5
}
