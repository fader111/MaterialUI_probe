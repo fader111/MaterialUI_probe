{
 "cells": [
  {
   "cell_type": "code",
   "execution_count": 2,
   "id": "462d7b0c",
   "metadata": {},
   "outputs": [],
   "source": [
    "import sys\n",
    "import os\n",
    "# sys.path.append(os.path.join(os.path.dirname(__file__), 'Cython'))\n",
    "import torch\n",
    "from typing import List, Dict, Any\n",
    "# from server.inference.models import ArchFormRegressor, InitAutoencoder\n",
    "from autosetup_ml.utils import *\n",
    "import torch\n",
    "import torch.nn as nn\n",
    "import json\n",
    "import pyvista as pv\n",
    "import numpy as np\n",
    "from scipy.spatial.transform import Rotation as R"
   ]
  },
  {
   "cell_type": "code",
   "execution_count": 4,
   "id": "b7920b85",
   "metadata": {},
   "outputs": [
    {
     "ename": "RuntimeError",
     "evalue": "ErrorCodeException, error code=5",
     "output_type": "error",
     "traceback": [
      "\u001b[1;31m---------------------------------------------------------------------------\u001b[0m",
      "\u001b[1;31mRuntimeError\u001b[0m                              Traceback (most recent call last)",
      "Cell \u001b[1;32mIn[4], line 10\u001b[0m\n\u001b[0;32m      7\u001b[0m base_orthoCase \u001b[38;5;241m=\u001b[39m OrthoCase(base_oas_file_path)\n\u001b[0;32m      8\u001b[0m base_case_points_t1, base_case_points_t2 \u001b[38;5;241m=\u001b[39m case_landmark_grids(base_orthoCase)     \n\u001b[1;32m---> 10\u001b[0m template_orthoCase \u001b[38;5;241m=\u001b[39m \u001b[43mOrthoCase\u001b[49m\u001b[43m(\u001b[49m\u001b[43mtemplate_case_id\u001b[49m\u001b[43m)\u001b[49m\n\u001b[0;32m     11\u001b[0m template_case_points_t1, template_case_points_t2 \u001b[38;5;241m=\u001b[39m case_landmark_grids(template_orthoCase)\n",
      "File \u001b[1;32mD:\\projectsd\\autosetup_ml\\src\\autosetup_ml\\utils.py:49\u001b[0m, in \u001b[0;36mOrthoCase.__init__\u001b[1;34m(self, oas_file_path)\u001b[0m\n\u001b[0;32m     47\u001b[0m \u001b[38;5;28mself\u001b[39m\u001b[38;5;241m.\u001b[39moas_file_path \u001b[38;5;241m=\u001b[39m oas_file_path\n\u001b[0;32m     48\u001b[0m \u001b[38;5;28mself\u001b[39m\u001b[38;5;241m.\u001b[39mdoc \u001b[38;5;241m=\u001b[39m PyOrthoDoc()\n\u001b[1;32m---> 49\u001b[0m \u001b[38;5;28;43mself\u001b[39;49m\u001b[38;5;241;43m.\u001b[39;49m\u001b[43mdoc\u001b[49m\u001b[38;5;241;43m.\u001b[39;49m\u001b[43mOpenCase\u001b[49m\u001b[43m(\u001b[49m\u001b[43moas_file_path\u001b[49m\u001b[43m)\u001b[49m\n\u001b[0;32m     50\u001b[0m \u001b[38;5;28mself\u001b[39m\u001b[38;5;241m.\u001b[39mcase \u001b[38;5;241m=\u001b[39m \u001b[38;5;28mself\u001b[39m\u001b[38;5;241m.\u001b[39mdoc\u001b[38;5;241m.\u001b[39mgetCase()\n\u001b[0;32m     51\u001b[0m \u001b[38;5;28mself\u001b[39m\u001b[38;5;241m.\u001b[39mtp \u001b[38;5;241m=\u001b[39m \u001b[38;5;28mself\u001b[39m\u001b[38;5;241m.\u001b[39mdoc\u001b[38;5;241m.\u001b[39mGetActiveTreatmentPlan()\n",
      "File \u001b[1;32mormco\\\\OrthoDoc.pyx:307\u001b[0m, in \u001b[0;36mormco.PyOrthoDoc.OpenCase\u001b[1;34m()\u001b[0m\n",
      "\u001b[1;31mRuntimeError\u001b[0m: ErrorCodeException, error code=5"
     ]
    }
   ],
   "source": [
    "oas_folder: str = \"server\"\n",
    "base_case_id: str = \"00000000\"\n",
    "template_case_id: str = r\"D:\\projectsd\\MaterialsUI_probe\\server\\912559.oas\"\n",
    "# Get base case points\n",
    "base_oas_file_path = r\"D:\\projectsd\\MaterialsUI_probe\\server\\00000000.oas\"\n",
    "\n",
    "base_orthoCase = OrthoCase(base_oas_file_path)\n",
    "base_case_points_t1, base_case_points_t2 = case_landmark_grids(base_orthoCase)     \n",
    "\n",
    "template_orthoCase = OrthoCase(template_case_id)\n",
    "template_case_points_t1, template_case_points_t2 = case_landmark_grids(template_orthoCase)"
   ]
  },
  {
   "cell_type": "code",
   "execution_count": 9,
   "id": "4765bbb6",
   "metadata": {},
   "outputs": [],
   "source": [
    "transforms_dict = {}\n",
    "\n",
    "for tooth_idx, tooth_id in enumerate(dw_teeth_nums14 + up_teeth_nums14):\n",
    "    \n",
    "    tooth_points_t1 = base_case_points_t1[tooth_idx] \n",
    "    tooth_points_t2 = base_case_points_t2[tooth_idx] \n",
    "\n",
    "    # tooth_points_pred = predictions[tooth_idx]  \n",
    "\n",
    "    tansform_matrix = calc_transform_matrix_fr_points(tooth_points_t1, tooth_points_t2)\n",
    "    # print(f\"tooth idx, {tooth_idx}, tooth_id{tooth_id}, tansform_matrix \\n{tansform_matrix}\")\n",
    "    tooth_transform = get_transform_from_matrix(tansform_matrix)\n",
    "    # print(f\"tooth idx, {tooth_idx}, tooth_id{tooth_id}, tooth tooth_transform \\n{tooth_transform}\")\n",
    "    # teeth_transforms.extend([tooth_transform]) \n",
    "    transforms_dict[str(tooth_id)] = tooth_transform\n",
    "\n",
    "# transforms_dict"
   ]
  },
  {
   "cell_type": "code",
   "execution_count": 10,
   "id": "58aae5e3",
   "metadata": {},
   "outputs": [
    {
     "data": {
      "application/vnd.jupyter.widget-view+json": {
       "model_id": "59896a16499a4004af319b968018356f",
       "version_major": 2,
       "version_minor": 0
      },
      "text/plain": [
       "Widget(value='<iframe src=\"http://localhost:55042/index.html?ui=P_0x147b33c09e0_3&reconnect=auto\" class=\"pyvis…"
      ]
     },
     "metadata": {},
     "output_type": "display_data"
    }
   ],
   "source": [
    "# plot grids in pyvista\n",
    "\n",
    "# Plot base_case_points_t1 and base_case_points_t2 as point clouds in pyvista\n",
    "# Convert to numpy arrays if not already\n",
    "pts_t1 = np.array(base_case_points_t1).reshape(-1, 3)\n",
    "pts_t2 = np.array(base_case_points_t2).reshape(-1, 3)\n",
    "\n",
    "plotter = pv.Plotter()\n",
    "cloud_t1 = pv.PolyData(pts_t1)\n",
    "cloud_t2 = pv.PolyData(pts_t2)\n",
    "\n",
    "plotter.add_points(cloud_t1, color='blue', point_size=10, render_points_as_spheres=True, label='T1')\n",
    "plotter.add_points(cloud_t2, color='red', point_size=10, render_points_as_spheres=True, label='T2')\n",
    "plotter.add_legend()\n",
    "plotter.show()\n"
   ]
  },
  {
   "cell_type": "code",
   "execution_count": 11,
   "id": "64cc068f",
   "metadata": {},
   "outputs": [
    {
     "data": {
      "application/vnd.jupyter.widget-view+json": {
       "model_id": "69125b70ebae451ebc3b5fe8f6b6bde3",
       "version_major": 2,
       "version_minor": 0
      },
      "text/plain": [
       "Widget(value='<iframe src=\"http://localhost:55042/index.html?ui=P_0x147c2e03080_4&reconnect=auto\" class=\"pyvis…"
      ]
     },
     "metadata": {},
     "output_type": "display_data"
    }
   ],
   "source": [
    "# Paths\n",
    "crowns_dir = os.path.abspath(os.path.join(\"..\", \"..\", \"public\", \"crowns\"))\n",
    "ortho_json_path = os.path.abspath(os.path.join(\"..\", \"..\", \"public\", \"orthoData.json\"))\n",
    "\n",
    "# Load orthoData.json\n",
    "with open(ortho_json_path, \"r\") as f:\n",
    "    ortho_data = json.load(f)\n",
    "\n",
    "# Get transforms for Stage 0\n",
    "stage0 = ortho_data[\"Staging\"][0]\n",
    "stage92 = ortho_data[\"Staging\"][92]\n",
    "\n",
    "tooth_transforms = stage0[\"RelativeToothTransforms\"]\n",
    "tooth_transforms2 = stage92[\"RelativeToothTransforms\"]\n",
    "\n",
    "# List of tooth IDs present in transforms and crowns folder\n",
    "tooth_ids = [tid for tid in tooth_transforms.keys() if os.path.exists(os.path.join(crowns_dir, f\"{tid}.stl\"))]\n",
    "\n",
    "# PyVista plotter\n",
    "plotter = pv.Plotter()\n",
    "\n",
    "for tooth_id in tooth_ids:\n",
    "    mesh_path = os.path.join(crowns_dir, f\"{tooth_id}.stl\")\n",
    "    mesh = pv.read(mesh_path)\n",
    "    tf = tooth_transforms[tooth_id]\n",
    "    t = tf[\"translation\"]\n",
    "    r = tf[\"rotation\"]\n",
    "    # Convert quaternion to rotation matrix using scipy (x, y, z, w)\n",
    "    quat = [r[\"x\"], r[\"y\"], r[\"z\"], r[\"w\"]]\n",
    "    rot = R.from_quat(quat).as_matrix()\n",
    "    # Apply rotation\n",
    "    mesh.points = mesh.points @ rot.T\n",
    "    # Apply translation\n",
    "    mesh.points += np.array([t[\"x\"], t[\"y\"], t[\"z\"]])\n",
    "    plotter.add_mesh(mesh, color=\"white\", opacity=0.8, show_edges=False)\n",
    "\n",
    "plotter.show()"
   ]
  },
  {
   "cell_type": "code",
   "execution_count": 12,
   "id": "34548b0f",
   "metadata": {},
   "outputs": [
    {
     "data": {
      "application/vnd.jupyter.widget-view+json": {
       "model_id": "0960a8042d734d93a6cc7de972878c37",
       "version_major": 2,
       "version_minor": 0
      },
      "text/plain": [
       "Widget(value='<iframe src=\"http://localhost:55042/index.html?ui=P_0x147b1e77710_5&reconnect=auto\" class=\"pyvis…"
      ]
     },
     "metadata": {},
     "output_type": "display_data"
    }
   ],
   "source": [
    "# Plot teeth with transforms from transforms_dict in blue for comparison\n",
    "plotter = pv.Plotter()\n",
    "\n",
    "# Plot orthoData.json transforms (white)\n",
    "for tooth_id in tooth_ids:\n",
    "    mesh_path = os.path.join(crowns_dir, f\"{tooth_id}.stl\")\n",
    "    mesh = pv.read(mesh_path)\n",
    "    tf = tooth_transforms[tooth_id]\n",
    "    t = tf[\"translation\"]\n",
    "    r = tf[\"rotation\"]\n",
    "    quat = [r[\"x\"], r[\"y\"], r[\"z\"], r[\"w\"]]\n",
    "    rot = R.from_quat(quat).as_matrix()\n",
    "    mesh1 = mesh.copy()\n",
    "    mesh1.points = mesh1.points @ rot.T\n",
    "    mesh1.points += np.array([t[\"x\"], t[\"y\"], t[\"z\"]])\n",
    "    plotter.add_mesh(mesh1, color=\"white\", opacity=0.8, show_edges=False, label=\"orthoData.json\")\n",
    "\n",
    "    tf_dict = transforms_dict[tooth_id]\n",
    "    t2 = tf_dict[\"translation\"]\n",
    "    r2 = tf_dict[\"rotation\"]\n",
    "    quat2 = [r2[\"x\"], r2[\"y\"], r2[\"z\"], r2[\"w\"]]\n",
    "    rot2 = R.from_quat(quat2).as_matrix()\n",
    "    # if tooth_id in [\"11\", \"21\", \"37\", \"47\"]:\n",
    "    #     # Get the full transform matrix for mesh2\n",
    "    #     from scipy.spatial.transform import Rotation as R\n",
    "    #     # Compose the two rotations\n",
    "    #     rot1 = R.from_quat([r[\"x\"], r[\"y\"], r[\"z\"], r[\"w\"]])\n",
    "    #     rot2_ = R.from_quat([r2[\"x\"], r2[\"y\"], r2[\"z\"], r2[\"w\"]])\n",
    "    #     composed_rot = rot2_ * rot1\n",
    "    #     composed_mat = composed_rot.as_matrix()\n",
    "    #     # Compose the translation\n",
    "    #     t1_vec = np.array([t[\"x\"], t[\"y\"], t[\"z\"]])\n",
    "    #     t2_vec = np.array([t2[\"x\"], t2[\"y\"], t2[\"z\"]])\n",
    "    #     composed_t = rot2_.apply(t1_vec) + t2_vec\n",
    "    #     print(f\"{tooth_id} - PyVista composed matrix:\\n{composed_mat}\")\n",
    "    #     print(f\"{tooth_id} - PyVista composed translation: {composed_t}\")\n",
    "    mesh2 = mesh1.copy()\n",
    "    mesh2.points = mesh2.points @ rot2.T\n",
    "    mesh2.points += np.array([t2[\"x\"], t2[\"y\"], t2[\"z\"]])\n",
    "    plotter.add_mesh(mesh2, color=\"blue\", opacity=0.5, show_edges=False, label=\"transforms_dict\")\n",
    "\n",
    "plotter.add_legend()\n",
    "plotter.show()\n"
   ]
  }
 ],
 "metadata": {
  "kernelspec": {
   "display_name": "Python 3",
   "language": "python",
   "name": "python3"
  },
  "language_info": {
   "codemirror_mode": {
    "name": "ipython",
    "version": 3
   },
   "file_extension": ".py",
   "mimetype": "text/x-python",
   "name": "python",
   "nbconvert_exporter": "python",
   "pygments_lexer": "ipython3",
   "version": "3.12.2"
  }
 },
 "nbformat": 4,
 "nbformat_minor": 5
}
